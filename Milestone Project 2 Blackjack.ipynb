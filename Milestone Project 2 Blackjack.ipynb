{
 "cells": [
  {
   "cell_type": "code",
   "execution_count": 57,
   "id": "f735f6d3",
   "metadata": {},
   "outputs": [],
   "source": [
    "import random\n",
    "suits=(\"Hearts\",\"Clubs\",\"Diamonds\",\"Spades\")\n",
    "ranks=(\"Two\",\"Three\",\"Four\",\"Five\",\"Six\",\"Seven\",\"Eight\",\"Nine\",\"Ten\",\"Jack\",\"Queen\",\"King\",\"Ace\")\n",
    "values={\"Two\":2,\"Three\":3,\"Four\":4,\"Five\":5,\"Six\":6,\"Seven\":7,\"Eight\":8,\"Nine\":9\n",
    "        ,\"Ten\":10,\"Jack\":10,\"Queen\":10,\"King\":10,\"Ace\":11}"
   ]
  },
  {
   "cell_type": "code",
   "execution_count": 4,
   "id": "af24b70f",
   "metadata": {},
   "outputs": [],
   "source": [
    "class Card():\n",
    "    def __init__(self,suit,rank):\n",
    "        self.suit=suit\n",
    "        self.rank=rank\n",
    "        self.value=values[rank]\n",
    "    def __str__(self):\n",
    "        return self.rank+\" of \"+self.suit"
   ]
  },
  {
   "cell_type": "code",
   "execution_count": 21,
   "id": "bd6347f1",
   "metadata": {},
   "outputs": [],
   "source": [
    "card=Card(\"Hearts\",\"Jack\")"
   ]
  },
  {
   "cell_type": "code",
   "execution_count": 22,
   "id": "7cbcd6f4",
   "metadata": {},
   "outputs": [
    {
     "name": "stdout",
     "output_type": "stream",
     "text": [
      "Jack of Hearts\n"
     ]
    }
   ],
   "source": [
    "print(card)"
   ]
  },
  {
   "cell_type": "code",
   "execution_count": 5,
   "id": "c99b0b06",
   "metadata": {},
   "outputs": [],
   "source": [
    "#deck is all about having the cards,shuffling the cards, dealing the cards \n",
    "class Deck():\n",
    "    def __init__(self):\n",
    "        self.deck=[]\n",
    "        for suit in suits:\n",
    "            for rank in ranks:\n",
    "                created_card=Card(suit,rank)\n",
    "                self.deck.append(created_card)\n",
    "    def __str__(self):\n",
    "        deck_comp=''\n",
    "        for card in self.deck:\n",
    "            deck_comp=deck_comp+'\\n '+str(card)\n",
    "        return 'The deck has:' + deck_comp    \n",
    "    def shuffle(self):\n",
    "        random.shuffle(self.deck)\n",
    "    def deal_cards(self):\n",
    "        return self.deck.pop(0)"
   ]
  },
  {
   "cell_type": "code",
   "execution_count": 21,
   "id": "4bbdf79b",
   "metadata": {},
   "outputs": [],
   "source": [
    "test_deck=Deck()"
   ]
  },
  {
   "cell_type": "code",
   "execution_count": 27,
   "id": "d41ceaad",
   "metadata": {},
   "outputs": [
    {
     "name": "stdout",
     "output_type": "stream",
     "text": [
      "Cards in list 1\n",
      "Ace of Hearts\n",
      "Three of Clubs\n",
      "Cards in list 2\n",
      "Two of Clubs\n",
      "Four of Clubs\n"
     ]
    }
   ],
   "source": [
    "l1=Hand()\n",
    "l2=Hand()\n",
    "l1.append(test_deck.deal_cards())\n",
    "l2.append(test_deck.deal_cards())\n",
    "l1.append(test_deck.deal_cards())\n",
    "l2.append(test_deck.deal_cards())\n",
    "print(\"Cards in list 1\",*l1,sep=\"\\n\")\n",
    "print(\"Cards in list 2\",*l2,sep=\"\\n\")"
   ]
  },
  {
   "cell_type": "code",
   "execution_count": null,
   "id": "48eb02d1",
   "metadata": {},
   "outputs": [],
   "source": []
  },
  {
   "cell_type": "code",
   "execution_count": 64,
   "id": "ca607bae",
   "metadata": {},
   "outputs": [
    {
     "name": "stdout",
     "output_type": "stream",
     "text": [
      "The deck has:\n",
      " Two of Hearts\n",
      " Three of Hearts\n",
      " Four of Hearts\n",
      " Five of Hearts\n",
      " Six of Hearts\n",
      " Seven of Hearts\n",
      " Eight of Hearts\n",
      " Nine of Hearts\n",
      " Ten of Hearts\n",
      " Jack of Hearts\n",
      " Queen of Hearts\n",
      " King of Hearts\n",
      " Ace of Hearts\n",
      " Two of Clubs\n",
      " Three of Clubs\n",
      " Four of Clubs\n",
      " Five of Clubs\n",
      " Six of Clubs\n",
      " Seven of Clubs\n",
      " Eight of Clubs\n",
      " Nine of Clubs\n",
      " Ten of Clubs\n",
      " Jack of Clubs\n",
      " Queen of Clubs\n",
      " King of Clubs\n",
      " Ace of Clubs\n",
      " Two of Diamonds\n",
      " Three of Diamonds\n",
      " Four of Diamonds\n",
      " Five of Diamonds\n",
      " Six of Diamonds\n",
      " Seven of Diamonds\n",
      " Eight of Diamonds\n",
      " Nine of Diamonds\n",
      " Ten of Diamonds\n",
      " Jack of Diamonds\n",
      " Queen of Diamonds\n",
      " King of Diamonds\n",
      " Ace of Diamonds\n",
      " Two of Spades\n",
      " Three of Spades\n",
      " Four of Spades\n",
      " Five of Spades\n",
      " Six of Spades\n",
      " Seven of Spades\n",
      " Eight of Spades\n",
      " Nine of Spades\n",
      " Ten of Spades\n",
      " Jack of Spades\n",
      " Queen of Spades\n",
      " King of Spades\n",
      " Ace of Spades\n"
     ]
    }
   ],
   "source": [
    "print(test_deck)"
   ]
  },
  {
   "cell_type": "code",
   "execution_count": 65,
   "id": "f412f029",
   "metadata": {},
   "outputs": [
    {
     "data": {
      "text/plain": [
       "52"
      ]
     },
     "execution_count": 65,
     "metadata": {},
     "output_type": "execute_result"
    }
   ],
   "source": [
    "len(test_deck.deck)"
   ]
  },
  {
   "cell_type": "code",
   "execution_count": 66,
   "id": "bc7e6633",
   "metadata": {},
   "outputs": [
    {
     "name": "stdout",
     "output_type": "stream",
     "text": [
      "Two of Hearts\n",
      "Three of Hearts\n",
      "Four of Hearts\n",
      "Five of Hearts\n",
      "Six of Hearts\n",
      "Seven of Hearts\n",
      "Eight of Hearts\n",
      "Nine of Hearts\n",
      "Ten of Hearts\n",
      "Jack of Hearts\n",
      "Queen of Hearts\n",
      "King of Hearts\n",
      "Ace of Hearts\n",
      "Two of Clubs\n",
      "Three of Clubs\n",
      "Four of Clubs\n",
      "Five of Clubs\n",
      "Six of Clubs\n",
      "Seven of Clubs\n",
      "Eight of Clubs\n",
      "Nine of Clubs\n",
      "Ten of Clubs\n",
      "Jack of Clubs\n",
      "Queen of Clubs\n",
      "King of Clubs\n",
      "Ace of Clubs\n",
      "Two of Diamonds\n",
      "Three of Diamonds\n",
      "Four of Diamonds\n",
      "Five of Diamonds\n",
      "Six of Diamonds\n",
      "Seven of Diamonds\n",
      "Eight of Diamonds\n",
      "Nine of Diamonds\n",
      "Ten of Diamonds\n",
      "Jack of Diamonds\n",
      "Queen of Diamonds\n",
      "King of Diamonds\n",
      "Ace of Diamonds\n",
      "Two of Spades\n",
      "Three of Spades\n",
      "Four of Spades\n",
      "Five of Spades\n",
      "Six of Spades\n",
      "Seven of Spades\n",
      "Eight of Spades\n",
      "Nine of Spades\n",
      "Ten of Spades\n",
      "Jack of Spades\n",
      "Queen of Spades\n",
      "King of Spades\n",
      "Ace of Spades\n"
     ]
    }
   ],
   "source": [
    "for cards in test_deck.deck:\n",
    "    print(cards)"
   ]
  },
  {
   "cell_type": "code",
   "execution_count": 67,
   "id": "f8ce7ca0",
   "metadata": {},
   "outputs": [],
   "source": [
    "test_deck.shuffle()"
   ]
  },
  {
   "cell_type": "code",
   "execution_count": 68,
   "id": "7aa02f85",
   "metadata": {},
   "outputs": [
    {
     "name": "stdout",
     "output_type": "stream",
     "text": [
      "The deck has:\n",
      " Eight of Diamonds\n",
      " Ace of Spades\n",
      " Five of Hearts\n",
      " Seven of Clubs\n",
      " Seven of Hearts\n",
      " King of Diamonds\n",
      " Jack of Diamonds\n",
      " Queen of Diamonds\n",
      " Ace of Diamonds\n",
      " Seven of Diamonds\n",
      " Six of Clubs\n",
      " King of Clubs\n",
      " Ace of Hearts\n",
      " Ten of Diamonds\n",
      " Queen of Clubs\n",
      " Jack of Clubs\n",
      " Six of Hearts\n",
      " Ace of Clubs\n",
      " Six of Spades\n",
      " Two of Spades\n",
      " Queen of Spades\n",
      " Nine of Diamonds\n",
      " Two of Clubs\n",
      " Three of Hearts\n",
      " Five of Diamonds\n",
      " Jack of Hearts\n",
      " King of Spades\n",
      " Four of Spades\n",
      " Three of Diamonds\n",
      " Ten of Clubs\n",
      " Eight of Clubs\n",
      " Five of Spades\n",
      " Three of Spades\n",
      " Ten of Spades\n",
      " Four of Clubs\n",
      " Nine of Spades\n",
      " Three of Clubs\n",
      " Five of Clubs\n",
      " Nine of Hearts\n",
      " Eight of Spades\n",
      " Six of Diamonds\n",
      " Ten of Hearts\n",
      " Four of Hearts\n",
      " Two of Hearts\n",
      " Four of Diamonds\n",
      " King of Hearts\n",
      " Queen of Hearts\n",
      " Jack of Spades\n",
      " Seven of Spades\n",
      " Eight of Hearts\n",
      " Nine of Clubs\n",
      " Two of Diamonds\n"
     ]
    }
   ],
   "source": [
    "#shuffled deck\n",
    "print(test_deck)"
   ]
  },
  {
   "cell_type": "code",
   "execution_count": 47,
   "id": "2fe063ba",
   "metadata": {},
   "outputs": [
    {
     "name": "stdout",
     "output_type": "stream",
     "text": [
      "Six of Spades\n",
      "6\n",
      "Jack of Spades\n",
      "10\n"
     ]
    }
   ],
   "source": [
    "'''\n",
    "l=[]\n",
    "for i in range(2):\n",
    "    dealt_card=test_deck.deal_cards()\n",
    "    l.append(dealt_card)\n",
    "for cards in l:\n",
    "    print(cards)\n",
    "    print(cards.value)\n",
    "'''"
   ]
  },
  {
   "cell_type": "code",
   "execution_count": 6,
   "id": "b7f2b2a5",
   "metadata": {},
   "outputs": [],
   "source": [
    "class Hand():\n",
    "    def __init__(self):\n",
    "        self.cards=[] #empty list which will later hold the player's or the dealer's cards        \n",
    "        self.value=0 #stores the value of the cards start with zero\n",
    "        self.aces=0 #keeps track of the number of aces\n",
    "    def add_card(self,card):\n",
    "         #card to added will be dealt from the deck   \n",
    "        self.cards.append(card)\n",
    "        self.value += values[card.rank]\n",
    "        if card.rank==\"Ace\":\n",
    "            self.aces+=1\n",
    "    def adjust_for_ace(self):\n",
    "    #if my total value is > 21 then i will consider my aces value to be 1\n",
    "        while self.value>21 and self.aces:\n",
    "            self.value-=10\n",
    "            self.aces-=1"
   ]
  },
  {
   "cell_type": "code",
   "execution_count": 102,
   "id": "08fa84da",
   "metadata": {},
   "outputs": [],
   "source": [
    "test_deck=Deck()\n",
    "test_deck.shuffle()"
   ]
  },
  {
   "cell_type": "code",
   "execution_count": 107,
   "id": "8c2da725",
   "metadata": {},
   "outputs": [
    {
     "name": "stdout",
     "output_type": "stream",
     "text": [
      "Ten of Hearts\n"
     ]
    },
    {
     "data": {
      "text/plain": [
       "10"
      ]
     },
     "execution_count": 107,
     "metadata": {},
     "output_type": "execute_result"
    }
   ],
   "source": [
    "test_player=Hand()\n",
    "card=test_deck.deal_cards()\n",
    "print((card))\n",
    "test_player.add_card(card)\n",
    "test_player.value"
   ]
  },
  {
   "cell_type": "code",
   "execution_count": 120,
   "id": "091bebd0",
   "metadata": {},
   "outputs": [
    {
     "name": "stdout",
     "output_type": "stream",
     "text": [
      "Ten of Hearts\n"
     ]
    }
   ],
   "source": [
    "print(test_player.cards[0])"
   ]
  },
  {
   "cell_type": "code",
   "execution_count": null,
   "id": "ca423315",
   "metadata": {},
   "outputs": [],
   "source": []
  },
  {
   "cell_type": "code",
   "execution_count": 59,
   "id": "39f4292c",
   "metadata": {
    "scrolled": true
   },
   "outputs": [
    {
     "name": "stdout",
     "output_type": "stream",
     "text": [
      "Nine of Diamonds\n"
     ]
    }
   ],
   "source": [
    "'''\n",
    "hand=Hand()\n",
    "hand.cards.append(test_deck.deal_cards())\n",
    "'''"
   ]
  },
  {
   "cell_type": "code",
   "execution_count": 70,
   "id": "49a6b252",
   "metadata": {},
   "outputs": [
    {
     "data": {
      "text/plain": [
       "52"
      ]
     },
     "execution_count": 70,
     "metadata": {},
     "output_type": "execute_result"
    }
   ],
   "source": [
    "len(test_deck.deck)"
   ]
  },
  {
   "cell_type": "code",
   "execution_count": 7,
   "id": "19b961d8",
   "metadata": {},
   "outputs": [],
   "source": [
    "class Chips:\n",
    "    def __init__(self,total=100):\n",
    "        self.total=total\n",
    "        self.bet=0\n",
    "    def win_bet(self):\n",
    "        self.total+=self.bet\n",
    "        return f\"Player has {self.total} amount \\n He won {self.bet}\" \n",
    "    def lose_bet(self):\n",
    "        self.total-=self.bet\n",
    "        return f\"Player has {self.total} amount \\n He lost {self.bet}\""
   ]
  },
  {
   "cell_type": "code",
   "execution_count": 8,
   "id": "6eb3362f",
   "metadata": {},
   "outputs": [],
   "source": [
    "def take_bet(chips):\n",
    "    while True:\n",
    "        try:\n",
    "            chips.bet=int(input(\"Enter your bet-\"))\n",
    "        except ValueError:\n",
    "            print(\"Sorry a bet must be an integer\")\n",
    "        else:\n",
    "            if chips.bet>chips.total:\n",
    "                print(\"Sorry your bet cannot exceed\",chips.total)\n",
    "            else:\n",
    "                break\n",
    "    "
   ]
  },
  {
   "cell_type": "code",
   "execution_count": 9,
   "id": "19fc21c7",
   "metadata": {},
   "outputs": [],
   "source": [
    "def hit(deck,hand):\n",
    "    hand.add_card(deck.deal_cards())\n",
    "    hand.adjust_for_ace()"
   ]
  },
  {
   "cell_type": "code",
   "execution_count": 14,
   "id": "ea468a48",
   "metadata": {},
   "outputs": [],
   "source": [
    "def hit_or_stand(deck,hand):\n",
    "    while True:\n",
    "        player_input=input(\"Do you want to Hit or Stand?\\n'H' or 'h' for hit and 'S' or 's' for stand \")\n",
    "        if player_input==\"H\" or player_input==\"h\" :\n",
    "            hit(deck,hand)\n",
    "        elif player_input==\"S\" or player_input==\"s\":\n",
    "            print(\"Player stands dealer is playing\")\n",
    "            playing=False\n",
    "        else:\n",
    "            print(\"Enter a correct input\")\n",
    "            continue\n",
    "        break"
   ]
  },
  {
   "cell_type": "code",
   "execution_count": 117,
   "id": "89a8a986",
   "metadata": {},
   "outputs": [
    {
     "name": "stdout",
     "output_type": "stream",
     "text": [
      "Do you want to Hit or Stand?\n",
      "'H' or 'h' for hit and 'S' or 's' for stand asda\n",
      "Enter a correct input\n",
      "Do you want to Hit or Stand?\n",
      "'H' or 'h' for hit and 'S' or 's' for stand asdas\n",
      "Enter a correct input\n",
      "Do you want to Hit or Stand?\n",
      "'H' or 'h' for hit and 'S' or 's' for stand sdasd\n",
      "Enter a correct input\n",
      "Do you want to Hit or Stand?\n",
      "'H' or 'h' for hit and 'S' or 's' for stand sfsd\n",
      "Enter a correct input\n",
      "Do you want to Hit or Stand?\n",
      "'H' or 'h' for hit and 'S' or 's' for stand ada\n",
      "Enter a correct input\n",
      "Do you want to Hit or Stand?\n",
      "'H' or 'h' for hit and 'S' or 's' for stand rgger\n",
      "Enter a correct input\n",
      "Do you want to Hit or Stand?\n",
      "'H' or 'h' for hit and 'S' or 's' for stand as\n",
      "Enter a correct input\n",
      "Do you want to Hit or Stand?\n",
      "'H' or 'h' for hit and 'S' or 's' for stand 585\n",
      "Enter a correct input\n",
      "Do you want to Hit or Stand?\n",
      "'H' or 'h' for hit and 'S' or 's' for stand H]\n",
      "Enter a correct input\n",
      "Do you want to Hit or Stand?\n",
      "'H' or 'h' for hit and 'S' or 's' for stand H\n"
     ]
    }
   ],
   "source": [
    "hit_or_stand(test_deck,hand)"
   ]
  },
  {
   "cell_type": "code",
   "execution_count": 41,
   "id": "500b80f0",
   "metadata": {},
   "outputs": [],
   "source": [
    "def show_some(player,dealer):\n",
    "    print(\"\\nDealer's Hand\")\n",
    "    print(\"<Card hidden>\")\n",
    "    print(\"\",dealer.cards[1])\n",
    "    print(\"\\nPlayer's hand:\",*player.cards,sep=\"\\n\")        \n",
    "def show_all(player,dealer):\n",
    "    print(\"\\nPlayer's hand:\",*player.cards,sep=\"\\n\")\n",
    "    print(\"Total value of player=\",player.value)\n",
    "    print(\"\\nDealer's hand:\",*dealer.cards,sep=\"\\n\")\n",
    "    print(\"Total value of Dealer=\",dealer.value)"
   ]
  },
  {
   "cell_type": "code",
   "execution_count": null,
   "id": "b9ab871a",
   "metadata": {},
   "outputs": [],
   "source": [
    "def player_busts(player,dealer,chips):\n",
    "    print(\"Player Bustedddddd\\nDealer wins\")\n",
    "    chips.lose_bet()\n",
    "def player_wins(player,dealer,chips):\n",
    "    print(\"Player wins\")\n",
    "    chips.win_bet()\n",
    "def dealer_busts(player,dealer,chips):\n",
    "    print(\"Dealer Bustedddddd\\nPlayer wins\")\n",
    "    chips.win_bet()\n",
    "def dealer_wins(player,dealer,chips):\n",
    "    print(\"Dealer wins\")\n",
    "    chips.lose_bet()\n",
    "def push():\n",
    "    print(\"Player and Dealer Tiesssss....Pushhhhhhhh\")"
   ]
  },
  {
   "cell_type": "code",
   "execution_count": 126,
   "id": "027804a8",
   "metadata": {
    "scrolled": true
   },
   "outputs": [
    {
     "name": "stdout",
     "output_type": "stream",
     "text": [
      "Player and Dealer Tiesssss....Pushhhhhhhh\n"
     ]
    }
   ],
   "source": [
    "push()"
   ]
  },
  {
   "cell_type": "code",
   "execution_count": 28,
   "id": "07cc4722",
   "metadata": {},
   "outputs": [
    {
     "name": "stdout",
     "output_type": "stream",
     "text": [
      "Two of Hearts\n"
     ]
    }
   ],
   "source": [
    "d=Deck()\n",
    "print(d.deal_cards())"
   ]
  },
  {
   "cell_type": "code",
   "execution_count": 29,
   "id": "330a1a99",
   "metadata": {},
   "outputs": [
    {
     "data": {
      "text/plain": [
       "51"
      ]
     },
     "execution_count": 29,
     "metadata": {},
     "output_type": "execute_result"
    }
   ],
   "source": [
    "len(d.deck)"
   ]
  },
  {
   "cell_type": "code",
   "execution_count": 30,
   "id": "76f14de0",
   "metadata": {},
   "outputs": [
    {
     "name": "stdout",
     "output_type": "stream",
     "text": [
      "Three of Hearts\n"
     ]
    }
   ],
   "source": [
    "print(d.deal_cards())"
   ]
  },
  {
   "cell_type": "code",
   "execution_count": null,
   "id": "b896310c",
   "metadata": {},
   "outputs": [
    {
     "name": "stdout",
     "output_type": "stream",
     "text": [
      "Starting the game of BlackJack!!\n",
      "Enter your bet-50\n",
      "\n",
      "Dealer's Hand\n",
      "<Card hidden>\n",
      " Two of Diamonds\n",
      "\n",
      "Player's hand:\n",
      "Five of Clubs\n",
      "Queen of Clubs\n",
      "Do you want to Hit or Stand?\n",
      "'H' or 'h' for hit and 'S' or 's' for stand H\n",
      "\n",
      "Dealer's Hand\n",
      "<Card hidden>\n",
      " Two of Diamonds\n",
      "\n",
      "Player's hand:\n",
      "Five of Clubs\n",
      "Queen of Clubs\n",
      "Five of Hearts\n",
      "Do you want to Hit or Stand?\n",
      "'H' or 'h' for hit and 'S' or 's' for stand S\n",
      "Player stands dealer is playing\n",
      "\n",
      "Dealer's Hand\n",
      "<Card hidden>\n",
      " Two of Diamonds\n",
      "\n",
      "Player's hand:\n",
      "Five of Clubs\n",
      "Queen of Clubs\n",
      "Five of Hearts\n",
      "\n",
      "Player's hand:\n",
      "Five of Clubs\n",
      "Queen of Clubs\n",
      "Five of Hearts\n",
      "Total value of player= 20\n",
      "\n",
      "Dealer's hand:\n",
      "Five of Spades\n",
      "Two of Diamonds\n",
      "Two of Hearts\n",
      "Three of Spades\n",
      "Eight of Spades\n",
      "Total value of Dealer= 20\n",
      "Player and Dealer Tiesssss....Pushhhhhhhh\n",
      "\n",
      " Player total chips are at: 100\n",
      "Would you like to play another hand? y/ny\n",
      "Starting the game of BlackJack!!\n",
      "Enter your bet-100\n",
      "\n",
      "Dealer's Hand\n",
      "<Card hidden>\n",
      " Queen of Hearts\n",
      "\n",
      "Player's hand:\n",
      "Three of Hearts\n",
      "Nine of Spades\n",
      "Do you want to Hit or Stand?\n",
      "'H' or 'h' for hit and 'S' or 's' for stand h\n",
      "\n",
      "Dealer's Hand\n",
      "<Card hidden>\n",
      " Queen of Hearts\n",
      "\n",
      "Player's hand:\n",
      "Three of Hearts\n",
      "Nine of Spades\n",
      "Seven of Hearts\n",
      "Do you want to Hit or Stand?\n",
      "'H' or 'h' for hit and 'S' or 's' for stand s\n",
      "Player stands dealer is playing\n",
      "\n",
      "Dealer's Hand\n",
      "<Card hidden>\n",
      " Queen of Hearts\n",
      "\n",
      "Player's hand:\n",
      "Three of Hearts\n",
      "Nine of Spades\n",
      "Seven of Hearts\n",
      "\n",
      "Player's hand:\n",
      "Three of Hearts\n",
      "Nine of Spades\n",
      "Seven of Hearts\n",
      "Total value of player= 19\n",
      "\n",
      "Dealer's hand:\n",
      "Four of Clubs\n",
      "Queen of Hearts\n",
      "Jack of Clubs\n",
      "Total value of Dealer= 24\n",
      "Dealer Bustedddddd\n",
      "Player wins\n",
      "\n",
      " Player total chips are at: 0\n",
      "Would you like to play another hand? y/ny\n",
      "Starting the game of BlackJack!!\n",
      "Enter your bet-100\n",
      "\n",
      "Dealer's Hand\n",
      "<Card hidden>\n",
      " Queen of Diamonds\n",
      "\n",
      "Player's hand:\n",
      "King of Diamonds\n",
      "Eight of Hearts\n",
      "Do you want to Hit or Stand?\n",
      "'H' or 'h' for hit and 'S' or 's' for stand s\n",
      "Player stands dealer is playing\n",
      "\n",
      "Dealer's Hand\n",
      "<Card hidden>\n",
      " Queen of Diamonds\n",
      "\n",
      "Player's hand:\n",
      "King of Diamonds\n",
      "Eight of Hearts\n",
      "\n",
      "Player's hand:\n",
      "King of Diamonds\n",
      "Eight of Hearts\n",
      "Total value of player= 18\n",
      "\n",
      "Dealer's hand:\n",
      "Nine of Hearts\n",
      "Queen of Diamonds\n",
      "Total value of Dealer= 19\n",
      "Dealer won by more value\n",
      "Dealer wins\n",
      "\n",
      " Player total chips are at: 0\n",
      "Would you like to play another hand? y/ny\n",
      "Starting the game of BlackJack!!\n",
      "Enter your bet-100\n",
      "\n",
      "Dealer's Hand\n",
      "<Card hidden>\n",
      " King of Hearts\n",
      "\n",
      "Player's hand:\n",
      "Eight of Diamonds\n",
      "Ace of Spades\n",
      "Do you want to Hit or Stand?\n",
      "'H' or 'h' for hit and 'S' or 's' for stand h\n",
      "\n",
      "Dealer's Hand\n",
      "<Card hidden>\n",
      " King of Hearts\n",
      "\n",
      "Player's hand:\n",
      "Eight of Diamonds\n",
      "Ace of Spades\n",
      "Eight of Spades\n",
      "Do you want to Hit or Stand?\n",
      "'H' or 'h' for hit and 'S' or 's' for stand s\n",
      "Player stands dealer is playing\n",
      "\n",
      "Dealer's Hand\n",
      "<Card hidden>\n",
      " King of Hearts\n",
      "\n",
      "Player's hand:\n",
      "Eight of Diamonds\n",
      "Ace of Spades\n",
      "Eight of Spades\n",
      "\n",
      "Player's hand:\n",
      "Eight of Diamonds\n",
      "Ace of Spades\n",
      "Eight of Spades\n",
      "Total value of player= 17\n",
      "\n",
      "Dealer's hand:\n",
      "Nine of Spades\n",
      "King of Hearts\n",
      "Total value of Dealer= 19\n",
      "Dealer won by more value\n",
      "Dealer wins\n",
      "\n",
      " Player total chips are at: 0\n",
      "Would you like to play another hand? y/ny\n",
      "Starting the game of BlackJack!!\n",
      "Enter your bet-100\n",
      "\n",
      "Dealer's Hand\n",
      "<Card hidden>\n",
      " Three of Clubs\n",
      "\n",
      "Player's hand:\n",
      "Eight of Spades\n",
      "Jack of Clubs\n",
      "Do you want to Hit or Stand?\n",
      "'H' or 'h' for hit and 'S' or 's' for stand s\n",
      "Player stands dealer is playing\n",
      "\n",
      "Dealer's Hand\n",
      "<Card hidden>\n",
      " Three of Clubs\n",
      "\n",
      "Player's hand:\n",
      "Eight of Spades\n",
      "Jack of Clubs\n",
      "\n",
      "Player's hand:\n",
      "Eight of Spades\n",
      "Jack of Clubs\n",
      "Total value of player= 18\n",
      "\n",
      "Dealer's hand:\n",
      "Six of Clubs\n",
      "Three of Clubs\n",
      "Queen of Clubs\n",
      "Total value of Dealer= 19\n",
      "Dealer won by more value\n",
      "Dealer wins\n",
      "\n",
      " Player total chips are at: 0\n",
      "Would you like to play another hand? y/ny\n",
      "Starting the game of BlackJack!!\n",
      "Enter your bet-100\n",
      "\n",
      "Dealer's Hand\n",
      "<Card hidden>\n",
      " Eight of Hearts\n",
      "\n",
      "Player's hand:\n",
      "Seven of Hearts\n",
      "Queen of Diamonds\n",
      "Do you want to Hit or Stand?\n",
      "'H' or 'h' for hit and 'S' or 's' for stand h\n",
      "\n",
      "Dealer's Hand\n",
      "<Card hidden>\n",
      " Eight of Hearts\n",
      "\n",
      "Player's hand:\n",
      "Seven of Hearts\n",
      "Queen of Diamonds\n",
      "Three of Clubs\n",
      "Do you want to Hit or Stand?\n",
      "'H' or 'h' for hit and 'S' or 's' for stand s\n",
      "Player stands dealer is playing\n",
      "\n",
      "Dealer's Hand\n",
      "<Card hidden>\n",
      " Eight of Hearts\n",
      "\n",
      "Player's hand:\n",
      "Seven of Hearts\n",
      "Queen of Diamonds\n",
      "Three of Clubs\n",
      "\n",
      "Player's hand:\n",
      "Seven of Hearts\n",
      "Queen of Diamonds\n",
      "Three of Clubs\n",
      "Total value of player= 20\n",
      "\n",
      "Dealer's hand:\n",
      "Nine of Hearts\n",
      "Eight of Hearts\n",
      "Ace of Diamonds\n",
      "Total value of Dealer= 18\n",
      "Player won by more value\n",
      "Player wins\n",
      "\n",
      " Player total chips are at: 200\n",
      "Would you like to play another hand? y/nn\n",
      "Thank you for playing\n",
      "Starting the game of BlackJack!!\n"
     ]
    }
   ],
   "source": [
    "#Game logic\n",
    "global playing\n",
    "playing=True\n",
    "while True:\n",
    "    print(\"Starting the game of BlackJack!!\")\n",
    "    test_deck=Deck()\n",
    "    test_deck.shuffle()\n",
    "    \n",
    "    player=Hand()\n",
    "    player.add_card(test_deck.deal_cards())\n",
    "    player.add_card(test_deck.deal_cards())\n",
    "    \n",
    "    dealer=Hand()\n",
    "    dealer.add_card(test_deck.deal_cards())\n",
    "    dealer.add_card(test_deck.deal_cards())\n",
    "    \n",
    "    #setup player's chips\n",
    "    player_chips=Chips()\n",
    "    \n",
    "    #prompt player for their bet\n",
    "    take_bet(player_chips)\n",
    "    \n",
    "    #show cards (but keep one dealer card hidden)\n",
    "    show_some(player,dealer)\n",
    "    \n",
    "    while playing:\n",
    "        #prompt player to hit or stand\n",
    "        hit_or_stand(test_deck,player)\n",
    "        #show cards(but keep one dealer cards hidden)\n",
    "        show_some(player,dealer)\n",
    "        #if player's hand exceeds 21,run player_busts() and break out of the loop\n",
    "        if player.value>21:\n",
    "            player_busts(player,dealer,player_chips)\n",
    "            \n",
    "            break\n",
    "    #if player hasn't busted,play dealer's hand until ddealer reaches 17\n",
    "    if player.value<=21:\n",
    "        \n",
    "        while dealer.value<=17:\n",
    "            hit(test_deck,dealer)\n",
    "        \n",
    "        #show all cards as dealer is playing\n",
    "        show_all(player,dealer)\n",
    "    \n",
    "        if dealer.value>21:\n",
    "            dealer_busts(player,dealer,player_chips)\n",
    "    \n",
    "        elif dealer.value>player.value:\n",
    "            print(\"Dealer won by more value\")\n",
    "            dealer_wins(player,dealer,player_chips)\n",
    "        \n",
    "        elif player.value>dealer.value:\n",
    "            print(\"Player won by more value\")\n",
    "            player_wins(player,dealer,player_chips)\n",
    "        #push player.value==dealer.value\n",
    "        else:\n",
    "            push()\n",
    "    #inform player about chips total\n",
    "    print(\"\\n Player total chips are at: {}\".format(player_chips.total))\n",
    "    #ask to play again\n",
    "    new_game=input(\"Would you like to play another hand? y/n\")\n",
    "    \n",
    "    if new_game[0].lower()==\"y\":\n",
    "        playing=True\n",
    "        continue\n",
    "    else:\n",
    "        print(\"Thank you for playing\")"
   ]
  },
  {
   "cell_type": "code",
   "execution_count": null,
   "id": "7466889f",
   "metadata": {},
   "outputs": [],
   "source": [
    "    "
   ]
  },
  {
   "cell_type": "code",
   "execution_count": null,
   "id": "aef20d8a",
   "metadata": {},
   "outputs": [],
   "source": []
  }
 ],
 "metadata": {
  "kernelspec": {
   "display_name": "Python 3",
   "language": "python",
   "name": "python3"
  },
  "language_info": {
   "codemirror_mode": {
    "name": "ipython",
    "version": 3
   },
   "file_extension": ".py",
   "mimetype": "text/x-python",
   "name": "python",
   "nbconvert_exporter": "python",
   "pygments_lexer": "ipython3",
   "version": "3.8.8"
  }
 },
 "nbformat": 4,
 "nbformat_minor": 5
}
