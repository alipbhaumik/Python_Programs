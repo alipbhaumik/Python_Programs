{
 "cells": [
  {
   "cell_type": "code",
   "execution_count": 1,
   "id": "49968c8a",
   "metadata": {},
   "outputs": [],
   "source": [
    "#Your assignment: Create a Tic Tac Toe game. You are free to use any IDE you like.\n",
    "\n",
    "#Here are the requirements:\n",
    "\n",
    "#2 players should be able to play the game (both sitting at the same computer)\n",
    "#The board should be printed out every time a player makes a move\n",
    "#You should be able to accept input of the player position and then place a symbol on the board"
   ]
  },
  {
   "cell_type": "code",
   "execution_count": 9,
   "id": "5ac404fc",
   "metadata": {},
   "outputs": [],
   "source": [
    "from IPython.display import clear_output"
   ]
  },
  {
   "cell_type": "code",
   "execution_count": 10,
   "id": "84dd286a",
   "metadata": {},
   "outputs": [],
   "source": [
    "board=[\"#\"]+[\" \"]*9"
   ]
  },
  {
   "cell_type": "code",
   "execution_count": 11,
   "id": "24937d70",
   "metadata": {},
   "outputs": [],
   "source": [
    "def display_board(board):\n",
    "    #board is the list\n",
    "    s1=\"\".join(board)#coverting the list into string for a cleaner display board\n",
    "    print(s1[7]+'|'+s1[8]+'|'+s1[9])\n",
    "    print(\"_|\"*2+\"_\")\n",
    "    print(s1[4]+'|'+s1[5]+'|'+s1[6])\n",
    "    print(\"_|\"*2+\"_\")\n",
    "    print(s1[1]+'|'+s1[2]+'|'+s1[3])\n",
    "    print(\" |\"*2+\" \")\n",
    "    return board"
   ]
  },
  {
   "cell_type": "code",
   "execution_count": 12,
   "id": "e3b99ef0",
   "metadata": {},
   "outputs": [
    {
     "name": "stdout",
     "output_type": "stream",
     "text": [
      " | | \n",
      "_|_|_\n",
      " | | \n",
      "_|_|_\n",
      " | | \n",
      " | | \n"
     ]
    },
    {
     "data": {
      "text/plain": [
       "['#', ' ', ' ', ' ', ' ', ' ', ' ', ' ', ' ', ' ']"
      ]
     },
     "execution_count": 12,
     "metadata": {},
     "output_type": "execute_result"
    }
   ],
   "source": [
    "display_board(board)"
   ]
  },
  {
   "cell_type": "code",
   "execution_count": 13,
   "id": "560e97ac",
   "metadata": {},
   "outputs": [],
   "source": [
    "def player_input():\n",
    "    inp=\"wrong\"\n",
    "    while inp not in ['X','O',]:\n",
    "        inp=input(\"Do u want to be X or O \").upper()\n",
    "        if inp not in ['X','O',]:\n",
    "            print(\"Sorry choose between the markers X or O:\") \n",
    "    return inp        \n"
   ]
  },
  {
   "cell_type": "code",
   "execution_count": 14,
   "id": "105d238e",
   "metadata": {},
   "outputs": [
    {
     "name": "stdout",
     "output_type": "stream",
     "text": [
      "Do u want to be X or O \n",
      "Sorry choose between the markers X or O:\n",
      "Do u want to be X or O \n",
      "Sorry choose between the markers X or O:\n",
      "Do u want to be X or O \n",
      "Sorry choose between the markers X or O:\n",
      "Do u want to be X or O \n",
      "Sorry choose between the markers X or O:\n",
      "Do u want to be X or O \n",
      "Sorry choose between the markers X or O:\n",
      "Do u want to be X or O \n",
      "Sorry choose between the markers X or O:\n",
      "Do u want to be X or O o\n"
     ]
    },
    {
     "data": {
      "text/plain": [
       "'O'"
      ]
     },
     "execution_count": 14,
     "metadata": {},
     "output_type": "execute_result"
    }
   ],
   "source": [
    "player_input()"
   ]
  },
  {
   "cell_type": "code",
   "execution_count": 15,
   "id": "3f80e7e0",
   "metadata": {},
   "outputs": [],
   "source": [
    "#index is my dictionary and position is the key..they will give the index on the list accordingto the input of the user and \n",
    "#the markers would be placed\n",
    "#position would basically contain return value from player_input function\n",
    "def place_maker(board,marker,position):\n",
    "        board[position]=marker.upper()\n",
    "        return board#changed list returned which in turn will change the display board"
   ]
  },
  {
   "cell_type": "code",
   "execution_count": 16,
   "id": "9835e6d5",
   "metadata": {},
   "outputs": [],
   "source": [
    "z=place_maker(board,\"x\",1)"
   ]
  },
  {
   "cell_type": "code",
   "execution_count": 17,
   "id": "7ad80d71",
   "metadata": {},
   "outputs": [
    {
     "name": "stdout",
     "output_type": "stream",
     "text": [
      " | | \n",
      "_|_|_\n",
      " | | \n",
      "_|_|_\n",
      "X| | \n",
      " | | \n"
     ]
    },
    {
     "data": {
      "text/plain": [
       "['#', 'X', ' ', ' ', ' ', ' ', ' ', ' ', ' ', ' ']"
      ]
     },
     "execution_count": 17,
     "metadata": {},
     "output_type": "execute_result"
    }
   ],
   "source": [
    "display_board(z)"
   ]
  },
  {
   "cell_type": "code",
   "execution_count": 18,
   "id": "e03d2ce1",
   "metadata": {},
   "outputs": [],
   "source": [
    "def win_check(board,marker):\n",
    "    if board[1:4]==([marker]*3) or board[4:7]==([marker]*3) or board[7:10]==([marker]*3) or board[1:8:3]==([marker]*3) or board[2:9:3]==([marker]*3) or board[3:10:3]==([marker]*3) or board[1:10:4]==([marker]*3) or board[3:8:4]==([marker]*3):\n",
    "        return True\n",
    "    else:\n",
    "        return False\n"
   ]
  },
  {
   "cell_type": "code",
   "execution_count": 19,
   "id": "f8d1aa52",
   "metadata": {},
   "outputs": [
    {
     "data": {
      "text/plain": [
       "False"
      ]
     },
     "execution_count": 19,
     "metadata": {},
     "output_type": "execute_result"
    }
   ],
   "source": [
    "win_check(board,\"X\")"
   ]
  },
  {
   "cell_type": "code",
   "execution_count": 20,
   "id": "42766ea7",
   "metadata": {},
   "outputs": [],
   "source": [
    "import random\n",
    "def choose_first():\n",
    "    return print(\"Player\",random.randint(1,2),\"goes first\")"
   ]
  },
  {
   "cell_type": "code",
   "execution_count": 21,
   "id": "d1b8395a",
   "metadata": {},
   "outputs": [
    {
     "name": "stdout",
     "output_type": "stream",
     "text": [
      "Player 1 goes first\n"
     ]
    }
   ],
   "source": [
    "choose_first()"
   ]
  },
  {
   "cell_type": "code",
   "execution_count": 22,
   "id": "607d24b7",
   "metadata": {},
   "outputs": [],
   "source": [
    "def space_check(board,position):\n",
    "    return board[position].isspace()\n",
    "    "
   ]
  },
  {
   "cell_type": "code",
   "execution_count": 23,
   "id": "b021f65d",
   "metadata": {},
   "outputs": [
    {
     "data": {
      "text/plain": [
       "True"
      ]
     },
     "execution_count": 23,
     "metadata": {},
     "output_type": "execute_result"
    }
   ],
   "source": [
    "space_check(board,9)"
   ]
  },
  {
   "cell_type": "code",
   "execution_count": 24,
   "id": "7a363488",
   "metadata": {},
   "outputs": [],
   "source": [
    "def full_board_check(board):\n",
    "    for i in range(1,10):\n",
    "        if board[i].isspace():\n",
    "            return False\n",
    "    return True"
   ]
  },
  {
   "cell_type": "code",
   "execution_count": 25,
   "id": "66310e68",
   "metadata": {},
   "outputs": [
    {
     "data": {
      "text/plain": [
       "False"
      ]
     },
     "execution_count": 25,
     "metadata": {},
     "output_type": "execute_result"
    }
   ],
   "source": [
    "full_board_check(board)"
   ]
  },
  {
   "cell_type": "code",
   "execution_count": 26,
   "id": "33664678",
   "metadata": {},
   "outputs": [],
   "source": [
    "def player_choice(board):\n",
    "    choice=\"wrong\"\n",
    "    within_range=False\n",
    "    while choice.isdigit()==False or within_range==False or space_check(board,int(choice))==False:\n",
    "        choice=input(\"Choose the position:\")\n",
    "        if choice.isdigit()==False:\n",
    "            print(\"Sorry we only take digits:\")\n",
    "        if choice.isdigit()==True:\n",
    "            if int(choice) in range(1,10):\n",
    "                within_range=True\n",
    "                if space_check(board,int(choice))==False:\n",
    "                    print(\"Choose another position\")\n",
    "                else:\n",
    "                    return int(choice)\n",
    "\n",
    "            else:\n",
    "                print(\"Enter digit within range 1 to 9 only:\")"
   ]
  },
  {
   "cell_type": "code",
   "execution_count": 27,
   "id": "ab0d31c3",
   "metadata": {},
   "outputs": [
    {
     "name": "stdout",
     "output_type": "stream",
     "text": [
      "Choose the position:5\n"
     ]
    },
    {
     "data": {
      "text/plain": [
       "5"
      ]
     },
     "execution_count": 27,
     "metadata": {},
     "output_type": "execute_result"
    }
   ],
   "source": [
    "player_choice(board)"
   ]
  },
  {
   "cell_type": "code",
   "execution_count": 28,
   "id": "c1e52b6a",
   "metadata": {},
   "outputs": [],
   "source": [
    "def replay():\n",
    "    play=\"wrong\"\n",
    "    while play not in ['Y','N','y','n']:\n",
    "        play=input(\"Do you wanna play again: Y or N\")\n",
    "        if play not in ['Y','N','y','n']:\n",
    "            print(\"Choose Y or N\")\n",
    "        else:\n",
    "            if play in['y','Y']:\n",
    "                return True\n",
    "            else:\n",
    "                return False"
   ]
  },
  {
   "cell_type": "code",
   "execution_count": 29,
   "id": "0c3f5d46",
   "metadata": {},
   "outputs": [
    {
     "name": "stdout",
     "output_type": "stream",
     "text": [
      "Do you wanna play again: Y or Nn\n"
     ]
    },
    {
     "data": {
      "text/plain": [
       "False"
      ]
     },
     "execution_count": 29,
     "metadata": {},
     "output_type": "execute_result"
    }
   ],
   "source": [
    "replay()"
   ]
  },
  {
   "cell_type": "code",
   "execution_count": 30,
   "id": "8b760cce",
   "metadata": {},
   "outputs": [
    {
     "name": "stdout",
     "output_type": "stream",
     "text": [
      "X|O| \n",
      "_|_|_\n",
      "O|X|O\n",
      "_|_|_\n",
      "X|O|X\n",
      " | | \n",
      "Choose the position:9\n",
      "You won\n",
      "X|O|X\n",
      "_|_|_\n",
      "O|X|O\n",
      "_|_|_\n",
      "X|O|X\n",
      " | | \n",
      "Tie game\n",
      "Do you wanna play again: Y or NN\n"
     ]
    }
   ],
   "source": [
    "print(\"Welcome to TIC-TAC-TOE\")\n",
    "board=[\"#\"]+[\" \"]*9\n",
    "playagain=True\n",
    "while playagain:\n",
    "#which player goes first\n",
    "    choose_first()\n",
    "#players choose marker\n",
    "    marker=player_input()\n",
    "    while full_board_check(board)==False:\n",
    "        clear_output()\n",
    "#display the board once\n",
    "        board=display_board(board)\n",
    "#player chooses his position to place the marker\n",
    "        p=player_choice(board)\n",
    "        board=place_maker(board,marker,p) \n",
    "        if marker==\"X\":\n",
    "            marker=\"O\"\n",
    "        else:\n",
    "            marker=\"X\"\n",
    "        if win_check(board,'X') or win_check(board,'O'):\n",
    "            print(\"You won\")\n",
    "            display_board(board)\n",
    "            break\n",
    "    if full_board_check(board)==True and (win_check(board,\"X\")==False or win_check(board,\"O\")==False):\n",
    "        print('Tie game')\n",
    "    playagain=replay()"
   ]
  },
  {
   "cell_type": "code",
   "execution_count": null,
   "id": "06ee4ce3",
   "metadata": {},
   "outputs": [],
   "source": []
  },
  {
   "cell_type": "code",
   "execution_count": null,
   "id": "6a6395ab",
   "metadata": {},
   "outputs": [],
   "source": []
  }
 ],
 "metadata": {
  "kernelspec": {
   "display_name": "Python 3",
   "language": "python",
   "name": "python3"
  },
  "language_info": {
   "codemirror_mode": {
    "name": "ipython",
    "version": 3
   },
   "file_extension": ".py",
   "mimetype": "text/x-python",
   "name": "python",
   "nbconvert_exporter": "python",
   "pygments_lexer": "ipython3",
   "version": "3.8.8"
  }
 },
 "nbformat": 4,
 "nbformat_minor": 5
}
